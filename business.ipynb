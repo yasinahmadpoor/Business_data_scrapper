{
 "cells": [
  {
   "cell_type": "code",
   "execution_count": 8,
   "metadata": {},
   "outputs": [],
   "source": [
    "import requests\n",
    "from bs4 import BeautifulSoup\n",
    "from datetime import date"
   ]
  },
  {
   "cell_type": "markdown",
   "metadata": {},
   "source": [
    "Get Page html"
   ]
  },
  {
   "cell_type": "code",
   "execution_count": 9,
   "metadata": {},
   "outputs": [],
   "source": [
    "def get_page_html():\n",
    "    whole_page = requests.get('https://www.tgju.org/')\n",
    "    status = whole_page.status_code\n",
    "    soup = BeautifulSoup(whole_page.content,'html.parser')\n",
    "    return soup, status"
   ]
  },
  {
   "cell_type": "markdown",
   "metadata": {},
   "source": [
    "Crypto Currency"
   ]
  },
  {
   "cell_type": "code",
   "execution_count": 10,
   "metadata": {},
   "outputs": [],
   "source": [
    "def get_cryoto_price(html_page):\n",
    "    crypto_table = html_page.find_all('div',class_=\"index-tabs-data crypto-tabs-mobile\")\n",
    "    crypto_table_body = crypto_table[0].find_all('tbody')\n",
    "    crypto_table_body_all_row = crypto_table_body[0].find_all('tr')\n",
    "    crypto_type = []\n",
    "    crypto_price = []\n",
    "    for row in crypto_table_body_all_row:\n",
    "        crypto_type.append(row.find('th').get_text().strip())\n",
    "        crypto_price.append(row.find('td',class_=\"market-price\").get_text().strip())\n",
    "    \n",
    "    return crypto_type, crypto_price "
   ]
  },
  {
   "cell_type": "markdown",
   "metadata": {},
   "source": [
    "Currency"
   ]
  },
  {
   "cell_type": "code",
   "execution_count": 11,
   "metadata": {},
   "outputs": [],
   "source": [
    "def get_currency_price(html_page):\n",
    "    tables = html_page.find_all(class_=\"table-tag table-tag-right\")\n",
    "    for span in tables:\n",
    "        if span.get_text() == 'نرخ ارز':\n",
    "            currency_table = span.parent   \n",
    "    currency_table_rows = currency_table.find_all('tr')\n",
    "    currency_names = []\n",
    "    currency_prices = []\n",
    "    for row in currency_table_rows[1:]:\n",
    "        currency_prices.append(row.find('td', class_=\"nf\").get_text().replace(',',''))\n",
    "        currency_names.append(row.find('th').get_text())\n",
    "    return currency_names, currency_prices"
   ]
  },
  {
   "cell_type": "markdown",
   "metadata": {},
   "source": [
    "All business values"
   ]
  },
  {
   "cell_type": "code",
   "execution_count": 12,
   "metadata": {},
   "outputs": [],
   "source": [
    "def get_all_business_prices(html_page):\n",
    "    data_gold_bours_oil_dollar_crypto = html_page.find_all(class_=\"container\")[0]\n",
    "    business_name =[]\n",
    "    business_price = []\n",
    "    for li in data_gold_bours_oil_dollar_crypto.find_all('li'):\n",
    "        business_name.append(li.find('h3').get_text())\n",
    "        business_price.append(li.span.span.get_text().replace(',',''))\n",
    "    return business_name, business_price"
   ]
  },
  {
   "cell_type": "markdown",
   "metadata": {},
   "source": [
    "Write to file"
   ]
  },
  {
   "cell_type": "code",
   "execution_count": 13,
   "metadata": {},
   "outputs": [],
   "source": [
    "def write_to_txtfile(name,price):\n",
    "    with open(\"business.txt\", \"a\",encoding=\"utf-8\") as txtfile:\n",
    "        today = str(date.today())\n",
    "        txtfile.write('date, name, price \\n')\n",
    "        txtfile.write('{},{} \\n'.format(today, name))\n",
    "        txtfile.write('{},{} \\n'.format(today, price))"
   ]
  },
  {
   "cell_type": "code",
   "execution_count": 14,
   "metadata": {},
   "outputs": [],
   "source": [
    "if __name__ == \"__main__\":\n",
    "    html_page,_ = get_page_html()\n",
    "    crypto_name, crypto_price = get_cryoto_price(html_page)\n",
    "    write_to_txtfile(crypto_name, crypto_price)\n",
    "    currency_name, currency_price = get_currency_price(html_page)\n",
    "    write_to_txtfile(currency_name, currency_price)\n",
    "    business_name, business_price = get_all_business_prices(html_page)\n",
    "    write_to_txtfile(business_name, business_price)"
   ]
  },
  {
   "cell_type": "code",
   "execution_count": null,
   "metadata": {},
   "outputs": [],
   "source": []
  }
 ],
 "metadata": {
  "interpreter": {
   "hash": "187711f63d063b36053b72d3e015d063d5590b8329b818c8b6bc1746218ad190"
  },
  "kernelspec": {
   "display_name": "Python 3.8.5 64-bit",
   "language": "python",
   "name": "python3"
  },
  "language_info": {
   "codemirror_mode": {
    "name": "ipython",
    "version": 3
   },
   "file_extension": ".py",
   "mimetype": "text/x-python",
   "name": "python",
   "nbconvert_exporter": "python",
   "pygments_lexer": "ipython3",
   "version": "3.8.5"
  },
  "orig_nbformat": 4
 },
 "nbformat": 4,
 "nbformat_minor": 2
}
