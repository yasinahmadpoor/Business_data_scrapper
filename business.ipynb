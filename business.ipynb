{
 "cells": [
  {
   "cell_type": "code",
   "execution_count": 1,
   "metadata": {},
   "outputs": [],
   "source": [
    "import requests\n",
    "from bs4 import BeautifulSoup\n",
    "from datetime import date"
   ]
  },
  {
   "cell_type": "code",
   "execution_count": 2,
   "metadata": {},
   "outputs": [
    {
     "data": {
      "text/plain": [
       "200"
      ]
     },
     "execution_count": 2,
     "metadata": {},
     "output_type": "execute_result"
    }
   ],
   "source": [
    "whole_page = requests.get('https://www.tgju.org/')\n",
    "whole_page.status_code"
   ]
  },
  {
   "cell_type": "markdown",
   "metadata": {},
   "source": [
    "Crypto Currency"
   ]
  },
  {
   "cell_type": "code",
   "execution_count": 3,
   "metadata": {},
   "outputs": [],
   "source": [
    "soup = BeautifulSoup(whole_page.content,'html.parser')\n",
    "crypto_table = soup.find_all('div',class_=\"index-tabs-data crypto-tabs-mobile\")\n",
    "crypto_table_body = crypto_table[0].find_all('tbody')\n",
    "crypto_table_body_all_row = crypto_table_body[0].find_all('tr')\n",
    "with open(\"business.txt\", \"a\",encoding=\"utf-8\") as txtfile:\n",
    "    today = str(date.today())\n",
    "    txtfile.write('date, name, price \\n')\n",
    "    for row in crypto_table_body_all_row:\n",
    "        crypto_type = row.find('th').get_text().strip()\n",
    "        crypto_price = row.find('td',class_=\"market-price\").get_text().strip()\n",
    "        txtfile.write('{},{},{} \\n'.format(today,crypto_type,crypto_price))\n",
    "    \n"
   ]
  },
  {
   "cell_type": "markdown",
   "metadata": {},
   "source": [
    "Currency"
   ]
  },
  {
   "cell_type": "code",
   "execution_count": 4,
   "metadata": {},
   "outputs": [],
   "source": [
    "tables = soup.find_all(class_=\"table-tag table-tag-right\")\n",
    "for span in tables:\n",
    "    if span.get_text() == 'نرخ ارز':\n",
    "        currency_table = span.parent\n",
    "        \n",
    "currency_table_rows = currency_table.find_all('tr')\n",
    "with open(\"business.txt\", \"a\",encoding=\"utf-8\") as txtfile:\n",
    "    for row in currency_table_rows[1:]:\n",
    "        currency_prices = row.find('td', class_=\"nf\").get_text().replace(',','')\n",
    "        currency_names = row.find('th').get_text()\n",
    "        txtfile.write('{},{},{} \\n'.format(today,currency_names,currency_prices))\n"
   ]
  },
  {
   "cell_type": "markdown",
   "metadata": {},
   "source": [
    "All bussiness value"
   ]
  },
  {
   "cell_type": "code",
   "execution_count": 38,
   "metadata": {},
   "outputs": [],
   "source": [
    "data_gold_bours_oil_dollar_crypto = soup.find_all(class_=\"container\")[0]\n",
    "with open(\"business.txt\", \"a\",encoding=\"utf-8\") as txtfile:\n",
    "    for li in data_gold_bours_oil_dollar_crypto.find_all('li'):\n",
    "            name = li.find('h3').get_text()\n",
    "            price = li.span.span.get_text().replace(',','')\n",
    "            txtfile.write('{},{},{} \\n'.format(today,name,price))\n",
    "\n",
    "\n"
   ]
  },
  {
   "cell_type": "code",
   "execution_count": null,
   "metadata": {},
   "outputs": [],
   "source": []
  }
 ],
 "metadata": {
  "interpreter": {
   "hash": "33bd8383ae98eb592e66e295518d0ee210ce9e5884e5be4742939aac41c33d38"
  },
  "kernelspec": {
   "display_name": "Python 3.8.5 64-bit",
   "language": "python",
   "name": "python3"
  },
  "language_info": {
   "codemirror_mode": {
    "name": "ipython",
    "version": 3
   },
   "file_extension": ".py",
   "mimetype": "text/x-python",
   "name": "python",
   "nbconvert_exporter": "python",
   "pygments_lexer": "ipython3",
   "version": "3.8.5"
  },
  "orig_nbformat": 4
 },
 "nbformat": 4,
 "nbformat_minor": 2
}
